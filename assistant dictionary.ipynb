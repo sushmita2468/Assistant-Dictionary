{
 "cells": [
  {
   "cell_type": "code",
   "execution_count": 1,
   "id": "ea1fdfe0",
   "metadata": {},
   "outputs": [
    {
     "name": "stdout",
     "output_type": "stream",
     "text": [
      "Enter the word you want to know the meaning: -school\n",
      "An institution or building at which children and young people receive education.\n",
      "Group of a large number of fish (or other sea animals, such as dolphins or whales), normally from the same species, that swim together.\n"
     ]
    }
   ],
   "source": [
    "import json\n",
    "from difflib import get_close_matches\n",
    "data=json.load(open(\"data.json\"))\n",
    "def translate(word):\n",
    "    word = word.lower()\n",
    "    if word in data:\n",
    "        return data[word]\n",
    "    elif word.title() in data:\n",
    "        return data[word.title()]\n",
    "    elif word.upper() in data:\n",
    "        return data[word.upper()]\n",
    "    elif len(get_close_matches(word,data())) > 0:\n",
    "        print(\"did you mean: %s\" %get_close_matches(word,data.keys())[0])\n",
    "        decide = input(\"press y for yes and n for no: -\")\n",
    "        if decide == 'y':\n",
    "            return data[get_close_matches(word,data.keys())[0]]\n",
    "        elif decide == 'n':\n",
    "            return(\"No matches found !!\")\n",
    "        else:\n",
    "            return(\"Please press y or n\")\n",
    "    else:\n",
    "        return(\"Word meaning not availabe\")\n",
    "    \n",
    "word = input(\"Enter the word you want to know the meaning: -\")\n",
    "output = translate(word)\n",
    "if type(output) == list:\n",
    "    for item in output:\n",
    "        print(item)\n",
    "else:\n",
    "    print(output)"
   ]
  },
  {
   "cell_type": "code",
   "execution_count": null,
   "id": "fca73665",
   "metadata": {},
   "outputs": [],
   "source": []
  }
 ],
 "metadata": {
  "kernelspec": {
   "display_name": "Python 3 (ipykernel)",
   "language": "python",
   "name": "python3"
  },
  "language_info": {
   "codemirror_mode": {
    "name": "ipython",
    "version": 3
   },
   "file_extension": ".py",
   "mimetype": "text/x-python",
   "name": "python",
   "nbconvert_exporter": "python",
   "pygments_lexer": "ipython3",
   "version": "3.9.7"
  }
 },
 "nbformat": 4,
 "nbformat_minor": 5
}
